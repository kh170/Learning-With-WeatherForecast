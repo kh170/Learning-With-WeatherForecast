{
 "cells": [
  {
   "cell_type": "code",
   "execution_count": null,
   "id": "2ddfca3e",
   "metadata": {
    "scrolled": true
   },
   "outputs": [],
   "source": [
    "import pandas as pd\n",
    "import numpy as np\n",
    "\n",
    "\n",
    "from sklearn.metrics import mean_absolute_error, mean_squared_error\n",
    "from sklearn.preprocessing import StandardScaler\n",
    "from sklearn.svm import SVR\n",
    "from sklearn.linear_model import LinearRegression\n",
    "from sklearn.ensemble import RandomForestRegressor\n",
    "\n",
    "import matplotlib.pyplot as plt\n",
    "\n",
    "\n",
    "\n",
    "import warnings\n",
    "warnings.filterwarnings(\"ignore\")\n",
    "\n",
    "\n",
    "%run Functions.ipynb"
   ]
  },
  {
   "cell_type": "code",
   "execution_count": null,
   "id": "079a9dea",
   "metadata": {},
   "outputs": [],
   "source": [
    "dpath = r\"/Users/bashirulazambiswas/Documents/Sadia/SUNY courses/2022_Fall/ICSI 518 Software Engineering/Project/Results/ML data/Station data\"\n",
    "rpath = r\"/Users/bashirulazambiswas/Documents/Sadia/SUNY courses/2022_Fall/ICSI 518 Software Engineering/Project/Results/Supervised model\""
   ]
  },
  {
   "cell_type": "code",
   "execution_count": null,
   "id": "790844b9",
   "metadata": {},
   "outputs": [],
   "source": [
    "station_list = ['QUEE','CHES','LOUI','SCIP','BUFF']\n",
    "target_list = ['temperature','precipitation','humidity']\n",
    "window_list = [5,15,30]\n",
    "train_method_list = ['prediction with whole dataset','prediction with target only',]\n"
   ]
  },
  {
   "cell_type": "code",
   "execution_count": null,
   "id": "53734aad",
   "metadata": {
    "scrolled": true
   },
   "outputs": [],
   "source": [
    "model_list = ['SVR','RF',\"LR\",]\n",
    "mae_df = pd.DataFrame(columns = ['station','model','train_method','target','window',\"mae\"])\n",
    "for station_name in station_list:\n",
    "    print(station_name)\n",
    "    for train_method in train_method_list:\n",
    "        print(train_method)\n",
    "        for target_variable in target_list:\n",
    "            print(target_variable)\n",
    "            for window in window_list:\n",
    "                print(window)\n",
    "                for model_name in model_list:\n",
    "                    print(model_name)\n",
    "                    if train_method == 'prediction with whole dataset':\n",
    "                        data = data_prep(dpath, station_name,target_variable,train_method)\n",
    "                        data_normalized = normalize_data(data)\n",
    "                        X_train, y_train, X_test, y_test,amount_of_features = load_data(data_normalized, window,target_variable)\n",
    "                        X_train = X_train.reshape(len(X_train),-1)\n",
    "                        X_test = X_test.reshape(len(X_test),-1)\n",
    "                        model = build_model(model_name)\n",
    "                        model.fit(X_train,y_train)\n",
    "                        pred = model.predict(X_test)\n",
    "                        y_test_denormalized = denormalize_data(data,y_test,target_variable)\n",
    "                        pred_denormalized = denormalize_data(data,pred,target_variable)\n",
    "                        plt.figure(figsize=(20,10))\n",
    "                        plt.plot(y_test_denormalized,'--',label='actual')\n",
    "                        plt.plot(pred_denormalized,'-',label='predicted')\n",
    "                        plt.legend()\n",
    "                        plt.xlabel('Time')\n",
    "                        plt.ylabel(target_variable)\n",
    "                        plt.title(\"Time series prediction of \"+target_variable+\" for the location \"+station_name+\" using \"+model_name)\n",
    "                        plt.savefig(rpath+\"//\"+model_name+\"//\"+station_name+\"_\"+model_name+\"_\"+train_method+\"_\"+target_variable+\"_\"+str(window)+\".png\")\n",
    "                        mae = mean_absolute_error(y_test_denormalized,pred_denormalized)\n",
    "                        mae_df = mae_df.append({'station':station_name,'model':model_name,'train_method':train_method,\n",
    "                                                'target':target_variable,'window':window,'mae':mae},ignore_index = True)\n",
    "\n",
    "                    elif train_method == 'prediction with target only':\n",
    "                        data = data_prep(dpath, station_name,target_variable,train_method)\n",
    "                        data_normalized = normalize_data(data)\n",
    "                        X_train, y_train, X_test, y_test,amount_of_features = load_data(data_normalized, window,target_variable)\n",
    "                        X_train = X_train.reshape(len(X_train),-1)\n",
    "                        X_test = X_test.reshape(len(X_test),-1)\n",
    "                        model = build_model(model_name)\n",
    "                        model.fit(X_train,y_train)\n",
    "                        pred = model.predict(X_test)\n",
    "                        y_test_denormalized = denormalize_data(data,y_test,target_variable)\n",
    "                        pred_denormalized = denormalize_data(data,pred,target_variable)\n",
    "                        plt.figure(figsize=(20,10))\n",
    "                        plt.plot(y_test_denormalized,'--',label = 'actual')\n",
    "                        plt.plot(pred_denormalized,'-',label = 'predicted')\n",
    "                        plt.legend()\n",
    "                        plt.xlabel('Time')\n",
    "                        plt.ylabel(target_variable)\n",
    "                        plt.title(\"Time series prediction of \"+target_variable+\" for the location \"+station_name+\" using \"+model_name)\n",
    "                        plt.savefig(rpath+\"//\"+model_name+\"//\"+station_name+\"_\"+model_name+\"_\"+train_method+\"_\"+target_variable+\"_\"+str(window)+\".png\")\n",
    "                        mae = mean_absolute_error(y_test_denormalized,pred_denormalized)\n",
    "                        mae_df = mae_df.append({'station':station_name,'model':model_name,'train_method':train_method,\n",
    "                                                'target':target_variable,'window':window,'mae':mae},ignore_index = True)\n",
    "                "
   ]
  },
  {
   "cell_type": "code",
   "execution_count": null,
   "id": "c2d33930",
   "metadata": {},
   "outputs": [],
   "source": [
    "mae_df.to_csv(rpath+\"//LR-RF-SVR.csv\")\n"
   ]
  },
  {
   "cell_type": "code",
   "execution_count": null,
   "id": "c7a14095",
   "metadata": {},
   "outputs": [],
   "source": [
    "mae_df"
   ]
  },
  {
   "cell_type": "code",
   "execution_count": null,
   "id": "2d896c16",
   "metadata": {},
   "outputs": [],
   "source": []
  }
 ],
 "metadata": {
  "kernelspec": {
   "display_name": "Python 3",
   "language": "python",
   "name": "python3"
  },
  "language_info": {
   "codemirror_mode": {
    "name": "ipython",
    "version": 3
   },
   "file_extension": ".py",
   "mimetype": "text/x-python",
   "name": "python",
   "nbconvert_exporter": "python",
   "pygments_lexer": "ipython3",
   "version": "3.8.8"
  }
 },
 "nbformat": 4,
 "nbformat_minor": 5
}
