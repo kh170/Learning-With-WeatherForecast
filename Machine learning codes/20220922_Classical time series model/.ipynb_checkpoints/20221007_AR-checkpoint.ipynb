{
 "cells": [
  {
   "cell_type": "code",
   "execution_count": 49,
   "id": "2ddfca3e",
   "metadata": {},
   "outputs": [],
   "source": [
    "import pandas as pd\n",
    "import numpy as np\n",
    "\n",
    "from statsmodels.tsa.ar_model import AutoReg\n",
    "from statsmodels.tsa.arima.model import ARIMA\n",
    "from statsmodels.tsa.statespace.sarimax import SARIMAX\n",
    "from sklearn.metrics import mean_absolute_error, mean_squared_error\n",
    "\n",
    "import matplotlib.pyplot as plt\n",
    "\n",
    "import warnings\n",
    "warnings.filterwarnings(\"ignore\")\n",
    "\n",
    "\n",
    "%run Functions.ipynb"
   ]
  },
  {
   "cell_type": "code",
   "execution_count": 50,
   "id": "079a9dea",
   "metadata": {},
   "outputs": [],
   "source": [
    "dpath = r\"/Users/bashirulazambiswas/Documents/Sadia/SUNY courses/2022_Fall/ICSI 518 Software Engineering/Project/Results/ML data/Station data\"\n",
    "path = r\"/Users/bashirulazambiswas/Documents/Sadia/SUNY courses/2022_Fall/ICSI 518 Software Engineering/Project/Results/Classical time series models\"\n",
    "path = r\"/Users/bashirulazambiswas/Documents/Sadia/SUNY courses/2022_Fall/ICSI 518 Software Engineering/Project/Results/Interpretations\""
   ]
  },
  {
   "cell_type": "code",
   "execution_count": 51,
   "id": "790844b9",
   "metadata": {},
   "outputs": [],
   "source": [
    "station_list = ['CHES']\n",
    "target_list = ['temperature','humidity','precipitation']\n",
    "window_list = [5,15,30]\n",
    "train_method_list = ['prediction with target only','prediction with whole dataset']\n"
   ]
  },
  {
   "cell_type": "code",
   "execution_count": 52,
   "id": "53734aad",
   "metadata": {
    "scrolled": false
   },
   "outputs": [],
   "source": [
    "# model = \"AR\"\n",
    "# mae_df = pd.DataFrame(columns = ['station','model','train_method','target','window',\"mae\"])\n",
    "# for station_name in station_list:\n",
    "#     for train_method in train_method_list:\n",
    "#         for target_variable in target_list:\n",
    "#             for window in window_list:\n",
    "#                 if train_method == 'prediction with target only':\n",
    "#                     data = data_prep(dpath, station_name,target_variable)\n",
    "#                     train,test =  TrainTestSplit(data,target_variable)\n",
    "#                     mae = AR_model(path,train,test,target_variable,window,0,0,station_name,model,train_method)\n",
    "\n",
    "#                     mae_df = mae_df.append({'station':station_name,'model':model,'train_method':train_method,\n",
    "#                                             'target':target_variable,'window':window,'mae':mae},ignore_index = True)\n",
    "                    "
   ]
  },
  {
   "cell_type": "code",
   "execution_count": 53,
   "id": "b092d7db",
   "metadata": {},
   "outputs": [],
   "source": [
    "# mae_df.to_csv(path+\"/\"+model+\".csv\")"
   ]
  },
  {
   "cell_type": "code",
   "execution_count": 54,
   "id": "0e27dd8a",
   "metadata": {},
   "outputs": [
    {
     "ename": "UnboundLocalError",
     "evalue": "local variable 'text' referenced before assignment",
     "output_type": "error",
     "traceback": [
      "\u001b[0;31m---------------------------------------------------------------------------\u001b[0m",
      "\u001b[0;31mUnboundLocalError\u001b[0m                         Traceback (most recent call last)",
      "\u001b[0;32m<ipython-input-54-4a6d62026d5e>\u001b[0m in \u001b[0;36m<module>\u001b[0;34m\u001b[0m\n\u001b[1;32m      7\u001b[0m                 \u001b[0;32mfor\u001b[0m \u001b[0mwindow\u001b[0m \u001b[0;32min\u001b[0m \u001b[0mwindow_list\u001b[0m\u001b[0;34m:\u001b[0m\u001b[0;34m\u001b[0m\u001b[0;34m\u001b[0m\u001b[0m\n\u001b[1;32m      8\u001b[0m                     \u001b[0;32mif\u001b[0m \u001b[0mtrain_method\u001b[0m \u001b[0;34m==\u001b[0m \u001b[0;34m'prediction with target only'\u001b[0m\u001b[0;34m:\u001b[0m\u001b[0;34m\u001b[0m\u001b[0;34m\u001b[0m\u001b[0m\n\u001b[0;32m----> 9\u001b[0;31m                         \u001b[0minterpretation_text_classical\u001b[0m\u001b[0;34m(\u001b[0m\u001b[0mpath\u001b[0m\u001b[0;34m,\u001b[0m\u001b[0mstation_name\u001b[0m\u001b[0;34m,\u001b[0m\u001b[0mmodel_name\u001b[0m\u001b[0;34m,\u001b[0m\u001b[0mtrain_method\u001b[0m\u001b[0;34m,\u001b[0m\u001b[0mtarget_variable\u001b[0m\u001b[0;34m)\u001b[0m\u001b[0;34m\u001b[0m\u001b[0;34m\u001b[0m\u001b[0m\n\u001b[0m\u001b[1;32m     10\u001b[0m \u001b[0;34m\u001b[0m\u001b[0m\n",
      "\u001b[0;32m<ipython-input-49-795192ceb42f>\u001b[0m in \u001b[0;36minterpretation_text_classical\u001b[0;34m(path, station_name, model_name, train_method, target_variable)\u001b[0m\n\u001b[1;32m     10\u001b[0m \u001b[0;34m\u001b[0m\u001b[0m\n\u001b[1;32m     11\u001b[0m \u001b[0;34m\u001b[0m\u001b[0m\n\u001b[0;32m---> 12\u001b[0;31m     \u001b[0mfile\u001b[0m\u001b[0;34m.\u001b[0m\u001b[0mwrite\u001b[0m\u001b[0;34m(\u001b[0m\u001b[0mtext\u001b[0m\u001b[0;34m)\u001b[0m\u001b[0;34m\u001b[0m\u001b[0;34m\u001b[0m\u001b[0m\n\u001b[0m",
      "\u001b[0;31mUnboundLocalError\u001b[0m: local variable 'text' referenced before assignment"
     ]
    }
   ],
   "source": [
    "model_name = [\"AR\",\"ARIMA\",\"SARIMA\",\"SVR\",\"RF\"]\n",
    "\n",
    "for model_name in model:\n",
    "    for station_name in station_list:\n",
    "        for train_method in train_method_list:\n",
    "            for target_variable in target_list:\n",
    "                for window in window_list:\n",
    "                    if train_method == 'prediction with target only':\n",
    "                        interpretation_text_classical(path,station_name,model_name,train_method,target_variable)\n",
    "                    else:\n",
    "                        interpretation_text_classical(path,station_name,model_name,train_method,target_variable)\n",
    "\n"
   ]
  },
  {
   "cell_type": "code",
   "execution_count": null,
   "id": "878cb660",
   "metadata": {},
   "outputs": [],
   "source": []
  }
 ],
 "metadata": {
  "kernelspec": {
   "display_name": "Python 3",
   "language": "python",
   "name": "python3"
  },
  "language_info": {
   "codemirror_mode": {
    "name": "ipython",
    "version": 3
   },
   "file_extension": ".py",
   "mimetype": "text/x-python",
   "name": "python",
   "nbconvert_exporter": "python",
   "pygments_lexer": "ipython3",
   "version": "3.8.8"
  }
 },
 "nbformat": 4,
 "nbformat_minor": 5
}
