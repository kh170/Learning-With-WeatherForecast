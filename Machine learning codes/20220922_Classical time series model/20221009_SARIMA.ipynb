{
 "cells": [
  {
   "cell_type": "code",
   "execution_count": 1,
   "id": "2ddfca3e",
   "metadata": {},
   "outputs": [],
   "source": [
    "import pandas as pd\n",
    "import numpy as np\n",
    "\n",
    "from statsmodels.tsa.ar_model import AutoReg\n",
    "from statsmodels.tsa.arima.model import ARIMA\n",
    "from statsmodels.tsa.stattools import adfuller\n",
    "\n",
    "from sklearn.metrics import mean_absolute_error, mean_squared_error\n",
    "\n",
    "import matplotlib.pyplot as plt\n",
    "\n",
    "\n",
    "import warnings\n",
    "warnings.filterwarnings(\"ignore\")\n",
    "\n",
    "\n",
    "%run Functions.ipynb"
   ]
  },
  {
   "cell_type": "code",
   "execution_count": 2,
   "id": "079a9dea",
   "metadata": {},
   "outputs": [],
   "source": [
    "dpath = r\"/Users/bashirulazambiswas/Documents/Sadia/SUNY courses/2022_Fall/ICSI 518 Software Engineering/Project/Results/ML data/Station data\"\n",
    "path = r\"/Users/bashirulazambiswas/Documents/Sadia/SUNY courses/2022_Fall/ICSI 518 Software Engineering/Project/Results/Classical time series models\""
   ]
  },
  {
   "cell_type": "code",
   "execution_count": 3,
   "id": "790844b9",
   "metadata": {},
   "outputs": [],
   "source": [
    "station_list = ['CHES']\n",
    "target_list = ['temperature','humidity','precipitation']\n",
    "# target_list = ['humidity','precipitation']\n",
    "window_list = [5,15,30]\n",
    "train_method_list = ['prediction with target only']\n"
   ]
  },
  {
   "cell_type": "code",
   "execution_count": 4,
   "id": "53734aad",
   "metadata": {
    "scrolled": false
   },
   "outputs": [
    {
     "name": "stdout",
     "output_type": "stream",
     "text": [
      "CHES\n",
      "prediction with target only\n",
      "temperature\n",
      "5\n",
      "15\n",
      "30\n",
      "humidity\n",
      "5\n",
      "15\n",
      "30\n",
      "precipitation\n",
      "5\n",
      "15\n",
      "30\n"
     ]
    }
   ],
   "source": [
    "model = \"SARIMA\"\n",
    "mae_df = pd.DataFrame(columns = ['station','model','train_method','target','window',\"mae\"])\n",
    "for station_name in station_list:\n",
    "    print(station_name)\n",
    "    for train_method in train_method_list:\n",
    "        print(train_method)\n",
    "        for target_variable in target_list:\n",
    "            print(target_variable)\n",
    "            for window in window_list:\n",
    "                print(window)\n",
    "                if train_method == 'prediction with target only':\n",
    "                    data = data_prep(dpath, station_name,target_variable)\n",
    "                    train,test =  TrainTestSplit(data,target_variable)\n",
    "                    p = window\n",
    "                    d = ARIMA_compute_d(train,target_variable)\n",
    "                    q = window\n",
    "                    mae = AR_model(path,train,test,target_variable,p,d,q,station_name,model,train_method,seasonal_order=(1,1,1,window))\n",
    "                    mae_df = mae_df.append({'station':station_name,'model':model,'train_method':train_method,\n",
    "                                            'target':target_variable,'window':window,'mae':mae},ignore_index = True)\n",
    "\n"
   ]
  },
  {
   "cell_type": "code",
   "execution_count": 6,
   "id": "e4b46d5d",
   "metadata": {},
   "outputs": [],
   "source": [
    "mae_df.to_csv(path+'/'+model+\".csv\")"
   ]
  },
  {
   "cell_type": "code",
   "execution_count": null,
   "id": "70e65efe",
   "metadata": {},
   "outputs": [],
   "source": []
  }
 ],
 "metadata": {
  "kernelspec": {
   "display_name": "Python 3",
   "language": "python",
   "name": "python3"
  },
  "language_info": {
   "codemirror_mode": {
    "name": "ipython",
    "version": 3
   },
   "file_extension": ".py",
   "mimetype": "text/x-python",
   "name": "python",
   "nbconvert_exporter": "python",
   "pygments_lexer": "ipython3",
   "version": "3.8.8"
  }
 },
 "nbformat": 4,
 "nbformat_minor": 5
}
