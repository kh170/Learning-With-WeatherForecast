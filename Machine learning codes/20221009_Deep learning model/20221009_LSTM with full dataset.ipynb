{
 "cells": [
  {
   "cell_type": "code",
   "execution_count": 1,
   "id": "2ddfca3e",
   "metadata": {
    "scrolled": true
   },
   "outputs": [],
   "source": [
    "import pandas as pd\n",
    "import numpy as np\n",
    "\n",
    "\n",
    "from sklearn.metrics import mean_absolute_error, mean_squared_error\n",
    "from sklearn.preprocessing import StandardScaler\n",
    "\n",
    "# Importing the Keras libraries and packages\n",
    "from keras.models import Sequential\n",
    "from keras.layers import Dense\n",
    "from keras.layers import SimpleRNN,LSTM\n",
    "from keras.layers import Dropout\n",
    "from keras.regularizers import L1L2\n",
    "\n",
    "import matplotlib.pyplot as plt\n",
    "\n",
    "\n",
    "\n",
    "import warnings\n",
    "warnings.filterwarnings(\"ignore\")\n",
    "\n",
    "\n",
    "%run Functions.ipynb"
   ]
  },
  {
   "cell_type": "code",
   "execution_count": 2,
   "id": "079a9dea",
   "metadata": {},
   "outputs": [],
   "source": [
    "dpath = r\"C:\\Users\\Bashirul Azam Biswas\\Documents\\Sadia\\ICSI 518 Software Engineering\\ML data\"\n",
    "rpath = r\"C:\\Users\\Bashirul Azam Biswas\\Documents\\Sadia\\ICSI 518 Software Engineering\\Results\\Deep learning model\\LSTM\""
   ]
  },
  {
   "cell_type": "code",
   "execution_count": 3,
   "id": "790844b9",
   "metadata": {},
   "outputs": [],
   "source": [
    "station_list = ['QUEE','CHES','LOUI','SCIP','BUFF']\n",
    "target_list = ['temperature']\n",
    "#                ,'humidity','precipitation']\n",
    "window_list = [5,15,30]\n",
    "train_method_list = ['prediction with target only','prediction with whole dataset']\n"
   ]
  },
  {
   "cell_type": "code",
   "execution_count": null,
   "id": "53734aad",
   "metadata": {
    "scrolled": false
   },
   "outputs": [
    {
     "name": "stdout",
     "output_type": "stream",
     "text": [
      "QUEE\n",
      "prediction with target only\n",
      "temperature\n",
      "5\n",
      "15\n",
      "30\n",
      "prediction with whole dataset\n",
      "temperature\n",
      "5\n",
      "19/19 [==============================] - 1s 6ms/step\n",
      "15\n"
     ]
    }
   ],
   "source": [
    "model = \"LSTM\"\n",
    "mae_df = pd.DataFrame(columns = ['station','model','train_method','target','window',\"mae\"])\n",
    "for station_name in station_list:\n",
    "    print(station_name)\n",
    "    for train_method in train_method_list:\n",
    "        print(train_method)\n",
    "        for target_variable in target_list:\n",
    "            print(target_variable)\n",
    "            for window in window_list:\n",
    "                print(window)\n",
    "                if train_method == 'prediction with whole dataset':\n",
    "                    data = data_prep(dpath, station_name,target_variable,train_method)\n",
    "                    data_normalized = normalize_data(data)\n",
    "                    X_train, y_train, X_test, y_test,amount_of_features = load_data(data_normalized, window,target_variable)\n",
    "                    model = build_model_temperature([amount_of_features,window,1])\n",
    "                    model.fit(X_train,y_train,batch_size=64,epochs=100,validation_split=0.1,verbose=0)\n",
    "                    pred = model.predict(X_test)\n",
    "                    y_test_denormalized = denormalize_data(data,y_test,target_variable)\n",
    "                    pred_denormalized = denormalize_data(data,pred,target_variable)\n",
    "                    plt.figure(figsize=(20,10))\n",
    "                    plt.plot(y_test_denormalized)\n",
    "                    plt.plot(pred_denormalized)\n",
    "                    mae = mean_absolute_error(y_test_denormalized,pred_denormalized)\n",
    "                    mae_df = mae_df.append({'station':station_name,'model':model,'train_method':train_method,\n",
    "                                            'target':target_variable,'window':window,'mae':mae},ignore_index = True)\n",
    "# mae_df.to_csv(path+'/'+model+\".csv\")\n"
   ]
  },
  {
   "cell_type": "code",
   "execution_count": null,
   "id": "3a5d28eb",
   "metadata": {},
   "outputs": [],
   "source": []
  }
 ],
 "metadata": {
  "kernelspec": {
   "display_name": "Python 3 (ipykernel)",
   "language": "python",
   "name": "python3"
  },
  "language_info": {
   "codemirror_mode": {
    "name": "ipython",
    "version": 3
   },
   "file_extension": ".py",
   "mimetype": "text/x-python",
   "name": "python",
   "nbconvert_exporter": "python",
   "pygments_lexer": "ipython3",
   "version": "3.9.12"
  }
 },
 "nbformat": 4,
 "nbformat_minor": 5
}
