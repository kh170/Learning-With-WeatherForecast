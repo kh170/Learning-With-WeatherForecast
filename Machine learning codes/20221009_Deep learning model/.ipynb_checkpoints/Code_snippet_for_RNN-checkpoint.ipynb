{
 "cells": [
  {
   "cell_type": "markdown",
   "id": "63c4ec73",
   "metadata": {},
   "source": [
    "# Importing required libraries"
   ]
  },
  {
   "cell_type": "code",
   "execution_count": null,
   "id": "91f9be4e",
   "metadata": {},
   "outputs": [],
   "source": [
    "import pandas as pd\n",
    "import numpy as np\n",
    "\n",
    "\n",
    "from sklearn.metrics import mean_absolute_error, mean_squared_error\n",
    "from sklearn.preprocessing import StandardScaler\n",
    "\n",
    "# Importing the Keras libraries and packages\n",
    "from keras.models import Sequential\n",
    "from keras.layers import Dense\n",
    "from keras.layers import SimpleRNN,LSTM\n",
    "from keras.layers import Dropout\n",
    "from keras.regularizers import L1L2\n",
    "\n",
    "import matplotlib.pyplot as plt\n",
    "\n",
    "\n",
    "\n",
    "import warnings\n",
    "warnings.filterwarnings(\"ignore\")\n",
    "\n"
   ]
  },
  {
   "cell_type": "markdown",
   "id": "7cb0710d",
   "metadata": {},
   "source": [
    "# Paths for data import and result storage"
   ]
  },
  {
   "cell_type": "code",
   "execution_count": null,
   "id": "9c35bcde",
   "metadata": {},
   "outputs": [],
   "source": [
    "dpath = r\"/Users/bashirulazambiswas/Documents/Sadia/SUNY courses/2022_Fall/ICSI 518 Software Engineering/Project/Results/ML data/Station data\"\n",
    "path = r\"/Users/bashirulazambiswas/Documents/Sadia/SUNY courses/2022_Fall/ICSI 518 Software Engineering/Project/Results/Classical time series models\""
   ]
  },
  {
   "cell_type": "markdown",
   "id": "9a23e9f9",
   "metadata": {},
   "source": [
    "# Specification Selection"
   ]
  },
  {
   "cell_type": "code",
   "execution_count": null,
   "id": "f4732c9f",
   "metadata": {},
   "outputs": [],
   "source": [
    "station_name = 'QUEE'\n",
    "target_variable = 'temperature'\n",
    "window = 5\n",
    "train_method = 'prediction with target only'\n",
    "model = \"AR\"\n"
   ]
  },
  {
   "cell_type": "markdown",
   "id": "f3dce9d6",
   "metadata": {},
   "source": [
    "# Data preparation function"
   ]
  },
  {
   "cell_type": "code",
   "execution_count": null,
   "id": "dd769af3",
   "metadata": {
    "scrolled": true
   },
   "outputs": [],
   "source": [
    "def data_prep(path, station_name,target_variable,train_method):\n",
    "    data = deep_learning_data(path,station_name,target_variable,train_method)\n",
    "    data.time = time_coversion(data.time)\n",
    "    return data\n",
    "\n",
    "def deep_learning_data(path,station_name,dependent_variable_label,train_method):\n",
    "    \n",
    "    data_preprocessed = preprocess(path,station_name,dependent_variable_label)\n",
    "    if dependent_variable_label == 'temperature':\n",
    "        dependent_variable = 'temp_2m_avg [degF]'\n",
    "    elif dependent_variable_label == 'humidity':\n",
    "        dependent_variable = 'relative_humidity_avg [percent]'\n",
    "    elif dependent_variable_label == 'precipitation':\n",
    "        dependent_variable = 'precip_total [inch]'  \n",
    "    if train_method == 'prediction with target only':\n",
    "        data = data_preprocessed[0][['station','time',dependent_variable]]\n",
    "    elif train_method == 'prediction with whole dataset':  \n",
    "        data = data_preprocessed[0]\n",
    "    return data\n",
    "\n",
    "def time_coversion(time_col): #Converts time from string to datetime\n",
    "    time_list = [time_col[i].split()[0] for i in range(len(time_col))]\n",
    "    return pd.to_datetime(time_list)\n",
    "\n"
   ]
  },
  {
   "cell_type": "markdown",
   "id": "d4bf2c01",
   "metadata": {},
   "source": [
    "# Preprocessing function"
   ]
  },
  {
   "cell_type": "code",
   "execution_count": null,
   "id": "8db82290",
   "metadata": {},
   "outputs": [],
   "source": [
    "def preprocess(path,station_name,dependent_variable_label):\n",
    "    data = pd.read_csv(path+\"/\"+station_name+\".csv\").drop(\"Unnamed: 0\",axis=1)\n",
    "    correlation = data.corr().round(2)\n",
    "    index = correlation.index\n",
    "    for i in correlation.index:\n",
    "        if i in index:\n",
    "            temp = correlation.loc[i]\n",
    "            temp = temp[temp==1]\n",
    "            for j in temp.index:\n",
    "                if j != i:\n",
    "                    if j not in index:\n",
    "                        continue\n",
    "                    index = index.drop(j)\n",
    "\n",
    "    preprocessed_data = pd.DataFrame()\n",
    "    preprocessed_data['station'] = data['station']               \n",
    "    preprocessed_data['time'] = data['time']\n",
    "    preprocessed_data[index] = data[index]\n",
    "\n",
    "    if dependent_variable_label == 'temperature':\n",
    "        dependent_variable = 'temp_2m_avg [degF]'\n",
    "        independent_feature_label = preprocessed_data.columns.drop(['temp_2m_avg [degF]'])\n",
    "    elif dependent_variable_label == 'humidity':\n",
    "        dependent_variable = 'relative_humidity_avg [percent]'\n",
    "        independent_feature_label = preprocessed_data.columns.drop(['relative_humidity_avg [percent]'])\n",
    "    elif dependent_variable_label == 'precipitation':\n",
    "        dependent_variable = 'precip_total [inch]'\n",
    "        independent_feature_label = preprocessed_data.columns.drop(['precip_total [inch]'])\n",
    "    x = preprocessed_data[independent_feature_label]\n",
    "    y = preprocessed_data[dependent_variable]\n",
    "    \n",
    "    return preprocessed_data,x,y"
   ]
  },
  {
   "cell_type": "markdown",
   "id": "fd88bfd8",
   "metadata": {},
   "source": [
    "### Data generated after preprocessing"
   ]
  },
  {
   "cell_type": "code",
   "execution_count": null,
   "id": "5ee05c44",
   "metadata": {
    "scrolled": true
   },
   "outputs": [],
   "source": [
    "data = data_prep(dpath, station_name,target_variable,train_method)        \n",
    "data.head(5)"
   ]
  },
  {
   "cell_type": "markdown",
   "id": "c16db6ec",
   "metadata": {},
   "source": [
    "# Train-test split function"
   ]
  },
  {
   "cell_type": "code",
   "execution_count": null,
   "id": "4326f21e",
   "metadata": {},
   "outputs": [],
   "source": [
    "def normalize_data(df):\n",
    "    scaler = StandardScaler()\n",
    "    df_ = df.copy()\n",
    "    for col in df.columns:\n",
    "        if col == 'station':\n",
    "            continue\n",
    "        elif col == 'time':\n",
    "            continue\n",
    "        scaler = scaler.fit(df_[col].values.reshape(-1,1))\n",
    "        df_[col] = scaler.transform(df_[col].values.reshape(-1,1))\n",
    "    return df_\n",
    "\n",
    "def load_data(data_normalized, window,target):\n",
    "    train_year = [2018,2019,2020]\n",
    "    test_year = [2021,2022]\n",
    "    if target == 'temperature':\n",
    "        x = data_normalized.drop(['temp_2m_avg [degF]'],axis=1)\n",
    "        y = data_normalized['temp_2m_avg [degF]']\n",
    "    elif target == 'humidity':\n",
    "        x = data_normalized.drop('relative_humidity_avg [percent]',axis=1)\n",
    "        y = data_normalized['relative_humidity_avg [percent]']\n",
    "    elif target == 'precipitation':\n",
    "        x = data_normalized.drop('precip_total [inch]',axis=1)\n",
    "        y = data_normalized['precip_total [inch]']\n",
    "  \n",
    "    data = pd.concat([x,y],axis=1)\n",
    "    data = data.dropna(how='any',axis=0)\n",
    "    sequence_length = window + 1\n",
    "    \n",
    "    train = pd.DataFrame()\n",
    "    for year in train_year:\n",
    "         train = train.append(data[(data['time'].dt.year == year)]) \n",
    "    train = train.drop(['station','time'],axis=1)\n",
    "    amount_of_features = len(train.columns)\n",
    "    train = train.values   \n",
    "    train_result = []\n",
    "    for index in range(len(train) - sequence_length): \n",
    "        train_result.append(train[index: index + sequence_length]) \n",
    "    train_result = np.array(train_result)    \n",
    "    x_train = train_result[:, :-1] \n",
    "    y_train = train_result[:, -1][:,-1]    \n",
    "    x_train = np.reshape(x_train, (x_train.shape[0], x_train.shape[1], amount_of_features))\n",
    "        \n",
    "    test = pd.DataFrame()\n",
    "    for year in test_year:\n",
    "         test = test.append(data[(data['time'].dt.year == year)])  \n",
    "    test = test.drop(['station','time'],axis=1)\n",
    "    test = test.values\n",
    "    test_result = []\n",
    "    for index in range(len(test) - sequence_length): \n",
    "        test_result.append(test[index: index + sequence_length]) \n",
    "    test_result = np.array(test_result)\n",
    "    x_test = test_result[:, :-1] \n",
    "    y_test = test_result[:, -1][:,-1]  \n",
    "    \n",
    "    x_test = np.reshape(x_test, (x_test.shape[0], x_test.shape[1], amount_of_features))\n",
    "\n",
    "    return [x_train, y_train, x_test, y_test,amount_of_features]\n",
    "\n"
   ]
  },
  {
   "cell_type": "markdown",
   "id": "d43c1cf6",
   "metadata": {},
   "source": [
    "### Train and test set after splitting"
   ]
  },
  {
   "cell_type": "code",
   "execution_count": null,
   "id": "616a93e6",
   "metadata": {},
   "outputs": [],
   "source": [
    "data_normalized = normalize_data(data)\n",
    "X_train, y_train, X_test, y_test,amount_of_features = load_data(data_normalized, window,target_variable)\n",
    "                        \n",
    "print(\"Train:\",train.shape)\n",
    "print(\"Test:\",test.shape)"
   ]
  },
  {
   "cell_type": "markdown",
   "id": "9325f7b9",
   "metadata": {},
   "source": [
    "# Building RNN model and predicting"
   ]
  },
  {
   "cell_type": "code",
   "execution_count": null,
   "id": "5539d773",
   "metadata": {},
   "outputs": [],
   "source": [
    "def build_model(layers, model, target_variable):\n",
    "    model = Sequential()\n",
    "    model.add(SimpleRNN(64,activation = 'relu', return_sequences=True, input_shape=(layers[1], layers[0])))\n",
    "    model.add(SimpleRNN(32,activation = 'relu', return_sequences=True))\n",
    "    model.add(SimpleRNN(32,activation = 'relu', return_sequences=False))\n",
    "    model.add(Dense(1))\n",
    "    model.compile(loss='mse',optimizer='adam', metrics=['accuracy'])\n",
    "    return model\n",
    "\n",
    "def denormalize_data(df,pred,target):\n",
    "    if target == 'temperature':\n",
    "        target_variable = 'temp_2m_avg [degF]'\n",
    "    elif target == 'humidity':\n",
    "        target_variable = 'relative_humidity_avg [percent]'\n",
    "    elif target == 'precipitation':\n",
    "        target_variable = 'precip_total [inch]'\n",
    "    scaler = StandardScaler()\n",
    "    x = scaler.fit_transform(df[target_variable].values.reshape(-1,1))\n",
    "    pred_denormalized = scaler.inverse_transform(pred.reshape(-1,1))\n",
    "    return pred_denormalized\n",
    "\n",
    "\n"
   ]
  },
  {
   "cell_type": "code",
   "execution_count": null,
   "id": "f7148ff4",
   "metadata": {},
   "outputs": [],
   "source": [
    "model = build_model([amount_of_features,window,1],model_name,target_variable)\n",
    "model.fit(X_train,y_train,batch_size=64,epochs=epoch,validation_split=0.1,verbose=0)\n",
    "pred = model.predict(X_test)\n",
    "y_test_denormalized = denormalize_data(data,y_test,target_variable)\n",
    "pred_denormalized = denormalize_data(data,pred,target_variable)\n",
    "                                                "
   ]
  },
  {
   "cell_type": "markdown",
   "id": "194ff62f",
   "metadata": {},
   "source": [
    "# Plotting function"
   ]
  },
  {
   "cell_type": "code",
   "execution_count": null,
   "id": "ba483e1d",
   "metadata": {},
   "outputs": [],
   "source": [
    "plt.figure(figsize=(20,10))\n",
    "plt.plot(y_test_denormalized,'--',label='actual')\n",
    "plt.plot(pred_denormalized,'-',label='predicted')\n",
    "plt.legend()\n",
    "plt.xlabel('Time')\n",
    "plt.ylabel(target_variable)\n",
    "                        "
   ]
  },
  {
   "cell_type": "code",
   "execution_count": null,
   "id": "d4a8c059",
   "metadata": {},
   "outputs": [],
   "source": []
  }
 ],
 "metadata": {
  "kernelspec": {
   "display_name": "Python 3",
   "language": "python",
   "name": "python3"
  },
  "language_info": {
   "codemirror_mode": {
    "name": "ipython",
    "version": 3
   },
   "file_extension": ".py",
   "mimetype": "text/x-python",
   "name": "python",
   "nbconvert_exporter": "python",
   "pygments_lexer": "ipython3",
   "version": "3.8.8"
  }
 },
 "nbformat": 4,
 "nbformat_minor": 5
}
