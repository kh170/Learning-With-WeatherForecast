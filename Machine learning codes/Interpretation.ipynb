{
 "cells": [
  {
   "cell_type": "code",
   "execution_count": 1,
   "id": "2ddfca3e",
   "metadata": {},
   "outputs": [],
   "source": [
    "import pandas as pd\n",
    "import numpy as np\n",
    "\n",
    "from statsmodels.tsa.ar_model import AutoReg\n",
    "from statsmodels.tsa.arima.model import ARIMA\n",
    "from statsmodels.tsa.statespace.sarimax import SARIMAX\n",
    "from sklearn.metrics import mean_absolute_error, mean_squared_error\n",
    "\n",
    "import matplotlib.pyplot as plt\n",
    "\n",
    "import warnings\n",
    "warnings.filterwarnings(\"ignore\")\n",
    "\n",
    "\n"
   ]
  },
  {
   "cell_type": "code",
   "execution_count": 3,
   "id": "079a9dea",
   "metadata": {},
   "outputs": [],
   "source": [
    "path = r\"/Users/bashirulazambiswas/Documents/Sadia/SUNY courses/2022_Fall/ICSI 518 Software Engineering/Project/Results/Interpretation\""
   ]
  },
  {
   "cell_type": "code",
   "execution_count": 4,
   "id": "801ff965",
   "metadata": {},
   "outputs": [],
   "source": [
    "model_list = ['AR','ARIMA','SARIMA','RNN','LSTM']\n",
    "station_list = ['QUEE','CHES','LOUI','SCIP','BUFF']\n",
    "target_list = ['temperature','humidity','precipitation']\n",
    "window_list = [5,15,30]\n",
    "train_method_list = ['prediction with target only','prediction with whole dataset']\n",
    "\n",
    "\n",
    "for station_name in station_list:\n",
    "    for train_method in train_method_list:\n",
    "        for target_variable in target_list:\n",
    "            for window in window_list:\n",
    "                for model in model_list:\n",
    "                    pass"
   ]
  },
  {
   "cell_type": "code",
   "execution_count": null,
   "id": "c8723a8f",
   "metadata": {},
   "outputs": [],
   "source": [
    "if model == 'AR':\n",
    "    txt = \"\""
   ]
  }
 ],
 "metadata": {
  "kernelspec": {
   "display_name": "Python 3",
   "language": "python",
   "name": "python3"
  },
  "language_info": {
   "codemirror_mode": {
    "name": "ipython",
    "version": 3
   },
   "file_extension": ".py",
   "mimetype": "text/x-python",
   "name": "python",
   "nbconvert_exporter": "python",
   "pygments_lexer": "ipython3",
   "version": "3.8.8"
  }
 },
 "nbformat": 4,
 "nbformat_minor": 5
}
