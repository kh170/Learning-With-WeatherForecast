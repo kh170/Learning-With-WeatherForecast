{
  "cells": [
    {
      "cell_type": "markdown",
      "metadata": {
        "id": "6M1VIDXPruak"
      },
      "source": [
        "#Importing the libraries\n"
      ]
    },
    {
      "cell_type": "code",
      "execution_count": null,
      "metadata": {
        "id": "57rKwjuGrUB6"
      },
      "outputs": [],
      "source": [
        "import numpy as np\n",
        "import matplotlib.pyplot as plt\n",
        "import pandas as pd\n",
        "import seaborn as sns\n",
        "from sklearn.impute import SimpleImputer\n",
        "from sklearn.model_selection import train_test_split\n",
        "from sklearn.preprocessing import StandardScaler\n",
        "from sklearn.svm import SVR\n",
        "from sklearn.metrics import r2_score\n",
        "from sklearn.metrics import mean_squared_error"
      ]
    },
    {
      "cell_type": "markdown",
      "metadata": {
        "id": "MNHwQ4oMr_Uu"
      },
      "source": [
        "#Taking the input"
      ]
    },
    {
      "cell_type": "code",
      "execution_count": null,
      "metadata": {
        "id": "25SRopWlu0tq"
      },
      "outputs": [],
      "source": [
        "data = \"SCIP.csv\"\n",
        "station_name = data[0:4]\n",
        "dependent_variable = \"temperature\"\n",
        "#dependent_variable = \"precipitation\"\n",
        "#dependent_variable = \"humidity\""
      ]
    },
    {
      "cell_type": "code",
      "execution_count": null,
      "metadata": {
        "id": "uqEZ5_a2h6Se"
      },
      "outputs": [],
      "source": []
    },
    {
      "cell_type": "markdown",
      "metadata": {
        "id": "wfVbUithr532"
      },
      "source": [
        "#Importing the dataset"
      ]
    },
    {
      "cell_type": "code",
      "execution_count": null,
      "metadata": {
        "id": "1chmehKcu6Tr"
      },
      "outputs": [],
      "source": [
        "df = pd.read_csv(data)"
      ]
    },
    {
      "cell_type": "markdown",
      "metadata": {
        "id": "KC8sByUnsSya"
      },
      "source": [
        "#Dropping unwanted features"
      ]
    },
    {
      "cell_type": "code",
      "execution_count": null,
      "metadata": {
        "id": "JBa8sgnou_lO"
      },
      "outputs": [],
      "source": [
        "df.rename({\"Unnamed: 0\":\"a\"}, axis=\"columns\", inplace=True)\n",
        "df.drop(['station', 'time', 'a'], axis=1, inplace=True)\n",
        "df.dropna(how='all', axis=1, inplace=True)"
      ]
    },
    {
      "cell_type": "markdown",
      "metadata": {
        "id": "8E1u_1HbsY8a"
      },
      "source": [
        "#Taking care of missing data"
      ]
    },
    {
      "cell_type": "code",
      "execution_count": null,
      "metadata": {
        "id": "JfwLnyiFvDxu"
      },
      "outputs": [],
      "source": [
        "imputer = SimpleImputer(missing_values=np.NaN, strategy='mean')\n",
        "idf = pd.DataFrame(imputer.fit_transform(df))\n",
        "idf.columns = df.columns\n",
        "idf.index = df.index"
      ]
    },
    {
      "cell_type": "markdown",
      "metadata": {
        "id": "QNBf939ZsgrB"
      },
      "source": [
        "#Seperating the dependent and independent variable(s) in the dataset"
      ]
    },
    {
      "cell_type": "code",
      "execution_count": null,
      "metadata": {
        "id": "uPh_MDpovIZ3"
      },
      "outputs": [],
      "source": [
        "#y is the dependent variable\n",
        "#x is the independent variable\n",
        "\n",
        "if dependent_variable == \"temperature\":\n",
        "  x = idf[idf.columns.drop('temp_2m_avg [degF]')]\n",
        "  y = idf['temp_2m_avg [degF]']                       \n",
        "\n",
        "elif dependent_variable == \"humidity\":\n",
        "  x = idf[idf.columns.drop('relative_humidity_avg [percent]')]\n",
        "  y = idf['relative_humidity_avg [percent]']\n",
        "\n",
        "elif dependent_variable == \"precipitation\":\n",
        "  x = idf[idf.columns.drop('precip_total [inch]')]\n",
        "  y = idf['precip_total [inch]']"
      ]
    },
    {
      "cell_type": "markdown",
      "metadata": {
        "id": "pdhOszkost2f"
      },
      "source": [
        "#Feature scaling"
      ]
    },
    {
      "cell_type": "code",
      "execution_count": null,
      "metadata": {
        "id": "EP7sT_gJvRd9"
      },
      "outputs": [],
      "source": [
        "sc_x = StandardScaler()\n",
        "sc_y = StandardScaler()\n",
        "x = sc_x.fit_transform(x)\n",
        "\n",
        "#reshape y into a 2D array before scaling\n",
        "y = y.values.reshape(len(y), 1)\n",
        "y = sc_y.fit_transform(y)"
      ]
    },
    {
      "cell_type": "markdown",
      "metadata": {
        "id": "EJd8gsRgs3RM"
      },
      "source": [
        "#Splitting the dataset into training set and test set"
      ]
    },
    {
      "cell_type": "code",
      "execution_count": null,
      "metadata": {
        "id": "9u08bEaBx6KD"
      },
      "outputs": [],
      "source": [
        "x_train, x_test, y_train, y_test = train_test_split(x, y, test_size= 0.2, random_state=0)"
      ]
    },
    {
      "cell_type": "markdown",
      "metadata": {
        "id": "HMXRFIeds9fF"
      },
      "source": [
        "#Training the model on training set"
      ]
    },
    {
      "cell_type": "code",
      "execution_count": null,
      "metadata": {
        "colab": {
          "base_uri": "https://localhost:8080/"
        },
        "id": "39LafE7LyCoQ",
        "outputId": "b20a25a3-1476-4ee0-dc81-7d742da46101"
      },
      "outputs": [
        {
          "data": {
            "text/plain": [
              "SVR()"
            ]
          },
          "execution_count": 9,
          "metadata": {},
          "output_type": "execute_result"
        }
      ],
      "source": [
        "regressor = SVR(kernel = 'rbf')\n",
        "regressor.fit(x_train, y_train.reshape(len(y_train),))"
      ]
    },
    {
      "cell_type": "markdown",
      "metadata": {
        "id": "6G7oGpvStI16"
      },
      "source": [
        "#predicting the test set result"
      ]
    },
    {
      "cell_type": "code",
      "execution_count": null,
      "metadata": {
        "id": "2zcUJb73yri-"
      },
      "outputs": [],
      "source": [
        "y_pred = regressor.predict(x_test)\n",
        "y_pred = sc_y.inverse_transform(y_pred.reshape(len(y_pred), 1))\n",
        "\n",
        "y_test = sc_y.inverse_transform(y_test.reshape(len(y_test), 1))\n",
        "\n",
        "#print(np.concatenate((y_pred, y_test),1))"
      ]
    },
    {
      "cell_type": "markdown",
      "metadata": {
        "id": "jgDn6Z0ytPf3"
      },
      "source": [
        "#Evaluating the performance of the model"
      ]
    },
    {
      "cell_type": "code",
      "execution_count": null,
      "metadata": {
        "colab": {
          "base_uri": "https://localhost:8080/"
        },
        "id": "r4qV3LXVDgiq",
        "outputId": "79b0b725-56ea-4d01-9cbd-63c2f5a31682"
      },
      "outputs": [
        {
          "name": "stdout",
          "output_type": "stream",
          "text": [
            "Accuracy is: 98.59608421925093\n",
            "mean_squared_error is: 4.580391012283946\n"
          ]
        }
      ],
      "source": [
        "#compute R2 and MSE\n",
        "r2_score = r2_score(y_test, y_pred)\n",
        "mean_squared_error = mean_squared_error(y_test, y_pred)\n",
        "\n",
        "#Print R2 and MSE values\n",
        "print(f\"Accuracy is: {r2_score * 100}\")\n",
        "print(f\"mean_squared_error is: {mean_squared_error}\")"
      ]
    },
    {
      "cell_type": "markdown",
      "metadata": {
        "id": "HijkCuaJtVB9"
      },
      "source": [
        "#Visualizing the result"
      ]
    },
    {
      "cell_type": "code",
      "execution_count": null,
      "metadata": {
        "colab": {
          "base_uri": "https://localhost:8080/",
          "height": 295
        },
        "id": "1Ljuo8VFDqZr",
        "outputId": "6a47dee1-9d86-4f07-f05c-68f6f67b65ca"
      },
      "outputs": [
        {
          "data": {
            "image/png": "[encoded data removed]",
            "text/plain": [
              "<Figure size 432x288 with 1 Axes>"
            ]
          },
          "metadata": {
            "needs_background": "light"
          },
          "output_type": "display_data"
        }
      ],
      "source": [
        "sns.regplot(x=y_test,y=y_pred,ci=None,color ='red');\n",
        "plt.xlabel(f\"Actual {dependent_variable}\")\n",
        "plt.ylabel(f\"Predicted {dependent_variable}\")\n",
        "plt.title(f\"Accuracy is {r2_score * 100}\")\n",
        "plt.savefig(f'{station_name}_{dependent_variable}.png')"
      ]
    }
  ],
  "metadata": {
    "colab": {
      "provenance": []
    },
    "kernelspec": {
      "display_name": "Python 3.9.5 64-bit",
      "language": "python",
      "name": "python3"
    },
    "language_info": {
      "name": "python",
      "version": "3.9.5"
    },
    "vscode": {
      "interpreter": {
        "hash": "57f3fa61c41b7c117e7baeffb06de495cc754a7c8cde55f926c0a394cdfeb1c6"
      }
    }
  },
  "nbformat": 4,
  "nbformat_minor": 0
}
