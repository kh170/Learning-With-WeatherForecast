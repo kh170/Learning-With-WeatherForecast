{
  "nbformat": 4,
  "nbformat_minor": 0,
  "metadata": {
    "colab": {
      "provenance": []
    },
    "kernelspec": {
      "name": "python3",
      "display_name": "Python 3"
    },
    "language_info": {
      "name": "python"
    }
  },
  "cells": [
    {
      "cell_type": "markdown",
      "source": [
        "#Importing the Libraries"
      ],
      "metadata": {
        "id": "-T95Ws8g7tL9"
      }
    },
    {
      "cell_type": "code",
      "source": [
        "import numpy as np\n",
        "import matplotlib.pyplot as plt\n",
        "import pandas as pd\n",
        "import seaborn as sns\n",
        "from sklearn.impute import SimpleImputer\n",
        "from sklearn.model_selection import train_test_split\n",
        "from sklearn.ensemble import RandomForestRegressor\n",
        "from sklearn.metrics import r2_score\n",
        "from sklearn.metrics import mean_squared_error"
      ],
      "metadata": {
        "id": "6u9lal7d7_6K"
      },
      "execution_count": 1,
      "outputs": []
    },
    {
      "cell_type": "markdown",
      "source": [
        "#Taking the input"
      ],
      "metadata": {
        "id": "PPVzUFGuUYmb"
      }
    },
    {
      "cell_type": "code",
      "source": [
        "data = \"SCIP.csv\"\n",
        "station_name = data[0:4]\n",
        "dependent_variable = \"temperature\"\n",
        "#dependent_variable = \"precipitation\"\n",
        "#dependent_variable = \"humidity\""
      ],
      "metadata": {
        "id": "4NrDa0lLUdV8"
      },
      "execution_count": 2,
      "outputs": []
    },
    {
      "cell_type": "markdown",
      "source": [
        "# Importing the dataset"
      ],
      "metadata": {
        "id": "iWGuGeo88GyN"
      }
    },
    {
      "cell_type": "code",
      "source": [
        "df = pd.read_csv(data)\n"
      ],
      "metadata": {
        "id": "6U51Dmqp8NYJ"
      },
      "execution_count": 3,
      "outputs": []
    },
    {
      "cell_type": "markdown",
      "source": [
        "#Dropping unwanted features in the dataset"
      ],
      "metadata": {
        "id": "sr0Dd2hFoWiy"
      }
    },
    {
      "cell_type": "code",
      "source": [
        "df.rename({\"Unnamed: 0\":\"a\"}, axis=\"columns\", inplace=True)\n",
        "df.drop(['station', 'time', 'a'], axis=1, inplace=True)\n",
        "df.dropna(inplace=True, axis=1, how='all')\n",
        "df.dropna(how='all', axis=1, inplace=True)"
      ],
      "metadata": {
        "id": "u7PSZ_oFoc6g"
      },
      "execution_count": 4,
      "outputs": []
    },
    {
      "cell_type": "markdown",
      "source": [
        "# Taking care of missing data"
      ],
      "metadata": {
        "id": "er324gAPRgqy"
      }
    },
    {
      "cell_type": "code",
      "source": [
        "imputer = SimpleImputer(missing_values=np.NaN, strategy='mean')\n",
        "idf = pd.DataFrame(imputer.fit_transform(df))\n",
        "idf.columns = df.columns\n",
        "idf.index = df.index"
      ],
      "metadata": {
        "id": "8a5yrswnRmA0"
      },
      "execution_count": 5,
      "outputs": []
    },
    {
      "cell_type": "markdown",
      "source": [
        "#Seperating the dependent and indepent variable(s) in the dataset"
      ],
      "metadata": {
        "id": "wfYN1H_uy_5q"
      }
    },
    {
      "cell_type": "code",
      "source": [
        "#y is the dependent variable\n",
        "#x is the independent variable\n",
        "\n",
        "if dependent_variable == \"temperature\":\n",
        "  x = idf[idf.columns.drop('temp_2m_avg [degF]')]\n",
        "  y = idf['temp_2m_avg [degF]']                       \n",
        "\n",
        "elif dependent_variable == \"humidity\":\n",
        "  x = idf[idf.columns.drop('relative_humidity_avg [percent]')]\n",
        "  y = idf['relative_humidity_avg [percent]']\n",
        "\n",
        "elif dependent_variable == \"precipitation\":\n",
        "  x = idf[idf.columns.drop('precip_total [inch]')]\n",
        "  y = idf['precip_total [inch]'] "
      ],
      "metadata": {
        "id": "pUYqk9Xos-sB"
      },
      "execution_count": 6,
      "outputs": []
    },
    {
      "cell_type": "markdown",
      "source": [
        "# Splitting the dataset into Training set and test set"
      ],
      "metadata": {
        "id": "FTI5wYa4Tuf8"
      }
    },
    {
      "cell_type": "code",
      "source": [
        "x_train, x_test, y_train, y_test = train_test_split(x, y, test_size= 0.2, random_state=0)"
      ],
      "metadata": {
        "id": "GuVXc9CnT4P9"
      },
      "execution_count": 7,
      "outputs": []
    },
    {
      "cell_type": "markdown",
      "source": [
        "# Training the model on training set"
      ],
      "metadata": {
        "id": "b07c709oUrlx"
      }
    },
    {
      "cell_type": "code",
      "source": [
        "regressor = RandomForestRegressor(n_estimators = 50)\n",
        "regressor.fit(x_train, y_train)"
      ],
      "metadata": {
        "colab": {
          "base_uri": "https://localhost:8080/"
        },
        "id": "nmcar3G6U4Uq",
        "outputId": "1b9d924f-6d7b-4c66-de3f-1eff126e5e48"
      },
      "execution_count": 8,
      "outputs": [
        {
          "output_type": "execute_result",
          "data": {
            "text/plain": [
              "RandomForestRegressor(n_estimators=50)"
            ]
          },
          "metadata": {},
          "execution_count": 8
        }
      ]
    },
    {
      "cell_type": "markdown",
      "source": [
        "# Predicting the test set result"
      ],
      "metadata": {
        "id": "IxjwqavnW9mL"
      }
    },
    {
      "cell_type": "code",
      "source": [
        "y_pred = regressor.predict(x_test)\n",
        "pred_df=pd.DataFrame({'Actual':y_test,'Predicted':y_pred,'Difference':abs(y_test-y_pred)})\n",
        "pd.options.display.float_format = \"{:,.2f}\".format"
      ],
      "metadata": {
        "id": "NAoijjjzXDpq"
      },
      "execution_count": 9,
      "outputs": []
    },
    {
      "cell_type": "markdown",
      "source": [
        "#Evaluating the performance of the model"
      ],
      "metadata": {
        "id": "Yf9lkC0sxCpR"
      }
    },
    {
      "cell_type": "code",
      "source": [
        "#compute R2 and MSE\n",
        "r2_score = r2_score(y_test, y_pred)\n",
        "mean_squared_error = mean_squared_error(y_test, y_pred)\n",
        "\n",
        "#Print R2 and MSE values\n",
        "print(f\"Accuracy is: {r2_score * 100}\")\n",
        "print(f\"mean_squared_error is: {mean_squared_error}\")"
      ],
      "metadata": {
        "colab": {
          "base_uri": "https://localhost:8080/"
        },
        "id": "jZk1HD03xMAH",
        "outputId": "61ce1c23-3216-41ef-9936-06327a09e74b"
      },
      "execution_count": 10,
      "outputs": [
        {
          "output_type": "stream",
          "name": "stdout",
          "text": [
            "Accuracy is: 99.15024885451827\n",
            "mean_squared_error is: 2.7723831890869137\n"
          ]
        }
      ]
    },
    {
      "cell_type": "markdown",
      "source": [
        "#Visualizing the training result"
      ],
      "metadata": {
        "id": "4FM5kcPIt7EB"
      }
    },
    {
      "cell_type": "code",
      "source": [
        "sns.regplot(x=y_test,y=y_pred,ci=None,color ='red');\n",
        "plt.title(f\"\")\n",
        "plt.xlabel(f\"Actual {dependent_variable}\")\n",
        "plt.ylabel(f\"Predicted {dependent_variable}\")\n",
        "plt.title(f\"Accuracy is {r2_score * 100}\")\n",
        "plt.savefig(f'{station_name}_{dependent_variable}.png')"
      ],
      "metadata": {
        "colab": {
          "base_uri": "https://localhost:8080/",
          "height": 295
        },
        "id": "x6OEh0id6ZHx",
        "outputId": "136e408a-7ced-48c1-bab8-385f63c01984"
      },
      "execution_count": 11,
      "outputs": [
        {
          "output_type": "display_data",
          "data": {
            "text/plain": [
              "<Figure size 432x288 with 1 Axes>"
            ],
            "image/png": "[encoded data removed]"
          },
          "metadata": {
            "needs_background": "light"
          }
        }
      ]
    },
    {
      "cell_type": "code",
      "source": [
        "\n",
        "\n"
      ],
      "metadata": {
        "id": "6nJw_NCAARy6"
      },
      "execution_count": 11,
      "outputs": []
    }
  ]
}