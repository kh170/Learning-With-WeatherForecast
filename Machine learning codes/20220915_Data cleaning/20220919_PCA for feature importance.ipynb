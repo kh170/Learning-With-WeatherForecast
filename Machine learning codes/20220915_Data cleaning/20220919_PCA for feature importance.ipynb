{
 "cells": [
  {
   "cell_type": "code",
   "execution_count": 4,
   "id": "90de67c2",
   "metadata": {},
   "outputs": [],
   "source": [
    "import pandas as pd\n",
    "import numpy as np\n",
    "import matplotlib.pyplot as plt\n",
    "import seaborn as sns\n",
    "import os\n",
    "from scipy.stats import pearsonr\n",
    "\n",
    "\n",
    "\n",
    "%run DataCleaningFunction.ipynb"
   ]
  },
  {
   "cell_type": "code",
   "execution_count": 5,
   "id": "ca1e3a62",
   "metadata": {},
   "outputs": [],
   "source": [
    "MLdata_path = r\"/Users/bashirulazambiswas/Documents/Sadia/SUNY courses/2022_Fall/ICSI 518 Software Engineering/Project/Git/Learning-Machine-Learning/ML data/Station data\"\n",
    "result_path = r\"/Users/bashirulazambiswas/Documents/Sadia/SUNY courses/2022_Fall/ICSI 518 Software Engineering/Project/Results\"\n",
    "\n",
    "\n"
   ]
  },
  {
   "cell_type": "code",
   "execution_count": 6,
   "id": "5c2180f1",
   "metadata": {},
   "outputs": [],
   "source": [
    "data = import_station_data(MLdata_path,\"ADDI\")\n",
    "data.time = time_coversion(data.time)"
   ]
  },
  {
   "cell_type": "code",
   "execution_count": 12,
   "id": "b8530d52",
   "metadata": {},
   "outputs": [],
   "source": [
    "features = data.columns.drop(['station','time'])"
   ]
  },
  {
   "cell_type": "code",
   "execution_count": 26,
   "id": "57a2591d",
   "metadata": {},
   "outputs": [],
   "source": [
    "# Standardization\n",
    "\n",
    "from sklearn.preprocessing import StandardScaler\n",
    "x = data[features].dropna().values\n",
    "x = StandardScaler().fit_transform(x)\n"
   ]
  },
  {
   "cell_type": "code",
   "execution_count": 40,
   "id": "e6321ada",
   "metadata": {},
   "outputs": [],
   "source": [
    "from sklearn.decomposition import PCA\n",
    "pca = PCA(n_components='mle')\n",
    "principalComponents = pca.fit_transform(x)\n"
   ]
  },
  {
   "cell_type": "code",
   "execution_count": 50,
   "id": "01cf681e",
   "metadata": {},
   "outputs": [
    {
     "name": "stdout",
     "output_type": "stream",
     "text": [
      "Number of components needed to capture the various of the data: 39\n"
     ]
    }
   ],
   "source": [
    "print(\"Number of components needed to capture the various of the data:\",pca.n_components_)"
   ]
  },
  {
   "cell_type": "code",
   "execution_count": null,
   "id": "bc7b9993",
   "metadata": {},
   "outputs": [],
   "source": []
  },
  {
   "cell_type": "code",
   "execution_count": null,
   "id": "e7437b87",
   "metadata": {},
   "outputs": [],
   "source": []
  }
 ],
 "metadata": {
  "kernelspec": {
   "display_name": "Python 3",
   "language": "python",
   "name": "python3"
  },
  "language_info": {
   "codemirror_mode": {
    "name": "ipython",
    "version": 3
   },
   "file_extension": ".py",
   "mimetype": "text/x-python",
   "name": "python",
   "nbconvert_exporter": "python",
   "pygments_lexer": "ipython3",
   "version": "3.8.8"
  }
 },
 "nbformat": 4,
 "nbformat_minor": 5
}
