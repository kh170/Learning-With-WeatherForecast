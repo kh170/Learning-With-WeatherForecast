{
 "cells": [
  {
   "cell_type": "code",
   "execution_count": 8,
   "id": "1d6dbc53",
   "metadata": {},
   "outputs": [],
   "source": [
    "import pandas as pd\n",
    "import numpy as np\n",
    "import matplotlib.pyplot as plt\n",
    "import seaborn as sns\n",
    "import os\n",
    "\n",
    "%run DataCleaningFunction.ipynb"
   ]
  },
  {
   "cell_type": "code",
   "execution_count": 9,
   "id": "6705bdba",
   "metadata": {},
   "outputs": [],
   "source": [
    "data_path = r\"/Users/bashirulazambiswas/Documents/Sadia/SUNY courses/2022_Fall/ICSI 518 Software Engineering/Project/Data/Mesonet data\"\n",
    "result_path = r\"/Users/bashirulazambiswas/Documents/Sadia/SUNY courses/2022_Fall/ICSI 518 Software Engineering/Project/Git/Learning-Machine-Learning/Results\"\n",
    "\n"
   ]
  },
  {
   "cell_type": "code",
   "execution_count": 10,
   "id": "c35f3201",
   "metadata": {},
   "outputs": [
    {
     "name": "stdout",
     "output_type": "stream",
     "text": [
      "2018: 14238 \n",
      "2019: 45990 \n",
      "2020: 46116 \n",
      "2021: 45990 \n",
      "2022: 31878\n"
     ]
    }
   ],
   "source": [
    "month_list = ['01','02','03','04','05','06','07','08','09','10','11','12']\n",
    "data_2018 = data_extract(\"2018\",month_list[8::])\n",
    "data_2019 = data_extract(\"2019\",month_list)\n",
    "data_2020 = data_extract(\"2020\",month_list)\n",
    "data_2021 = data_extract(\"2021\",month_list)\n",
    "data_2022 = data_extract(\"2022\",month_list[0:9])\n",
    "print(\"2018:\",len(data_2018),\"\\n2019:\",len(data_2019),\"\\n2020:\",len(data_2020),\"\\n2021:\",len(data_2021),\"\\n2022:\",len(data_2022))"
   ]
  },
  {
   "cell_type": "code",
   "execution_count": 12,
   "id": "1bc96f2d",
   "metadata": {},
   "outputs": [],
   "source": [
    "# Putting the data together\n",
    "data = pd.concat([data_2018,data_2019,data_2020,data_2021,data_2022])\n",
    "data.to_csv(result_path+\"//Combined Dataset.csv\")"
   ]
  },
  {
   "cell_type": "code",
   "execution_count": 25,
   "id": "5f03717a",
   "metadata": {},
   "outputs": [],
   "source": [
    "# Separating out station wise dataset\n",
    "station_unique = data['station'].unique()\n",
    "for i in range(len(station_unique)):\n",
    "    temp = data[data['station']==station_unique[i]]\n",
    "    temp.to_csv(result_path+'/Station data/'+station_unique[i]+'.csv')\n"
   ]
  },
  {
   "cell_type": "code",
   "execution_count": null,
   "id": "cc7e48cf",
   "metadata": {},
   "outputs": [],
   "source": []
  }
 ],
 "metadata": {
  "kernelspec": {
   "display_name": "Python 3",
   "language": "python",
   "name": "python3"
  },
  "language_info": {
   "codemirror_mode": {
    "name": "ipython",
    "version": 3
   },
   "file_extension": ".py",
   "mimetype": "text/x-python",
   "name": "python",
   "nbconvert_exporter": "python",
   "pygments_lexer": "ipython3",
   "version": "3.8.8"
  }
 },
 "nbformat": 4,
 "nbformat_minor": 5
}
