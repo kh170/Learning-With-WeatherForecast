{
 "cells": [
  {
   "cell_type": "code",
   "execution_count": 114,
   "id": "ca122985",
   "metadata": {},
   "outputs": [],
   "source": [
    "def import_station_data(path,station_name):\n",
    "    station_data = pd.read_csv(path+\"/\"+station_name+\".csv\").drop(\"Unnamed: 0\",axis=1)\n",
    "    return station_data\n",
    "\n",
    "def preprocess(path,station_name,dependent_variable_label):\n",
    "    data = import_station_data(path,station_name)\n",
    "    correlation = data.corr().round(2)\n",
    "    index = correlation.index\n",
    "    for i in correlation.index:\n",
    "        if i in index:\n",
    "            temp = correlation.loc[i]\n",
    "            temp = temp[temp==1]\n",
    "            for j in temp.index:\n",
    "                if j != i:\n",
    "                    if j not in index:\n",
    "                        continue\n",
    "                    index = index.drop(j)\n",
    "\n",
    "    preprocessed_data = pd.DataFrame()\n",
    "    preprocessed_data['station'] = data['station']               \n",
    "    preprocessed_data['time'] = data['time']\n",
    "    preprocessed_data[index] = data[index]\n",
    "    \n",
    "    if dependent_variable_label == 'temperature':\n",
    "        dependent_variable = 'temp_2m_avg [degF]'\n",
    "        independent_feature_label = preprocessed_data.columns.drop(['temp_2m_avg [degF]'])\n",
    "    elif dependent_variable_label == 'humidity':\n",
    "        dependent_variable = 'relative_humidity_avg [percent]'\n",
    "        independent_feature_label = preprocessed_data.columns.drop(['relative_humidity_avg [percent]'])\n",
    "    if dependent_variable_label == 'precipitation':\n",
    "        dependent_variable = 'precip_total [inch]'\n",
    "        independent_feature_label = preprocessed_data.columns.drop(['precip_total [inch]'])\n",
    "    x = preprocessed_data[independent_feature_label]\n",
    "    y = preprocessed_data[dependent_variable]\n",
    "    \n",
    "    return x,y\n",
    "    \n",
    "    \n"
   ]
  },
  {
   "cell_type": "code",
   "execution_count": null,
   "id": "fa6885b7",
   "metadata": {},
   "outputs": [],
   "source": []
  }
 ],
 "metadata": {
  "kernelspec": {
   "display_name": "Python 3",
   "language": "python",
   "name": "python3"
  },
  "language_info": {
   "codemirror_mode": {
    "name": "ipython",
    "version": 3
   },
   "file_extension": ".py",
   "mimetype": "text/x-python",
   "name": "python",
   "nbconvert_exporter": "python",
   "pygments_lexer": "ipython3",
   "version": "3.8.8"
  }
 },
 "nbformat": 4,
 "nbformat_minor": 5
}
