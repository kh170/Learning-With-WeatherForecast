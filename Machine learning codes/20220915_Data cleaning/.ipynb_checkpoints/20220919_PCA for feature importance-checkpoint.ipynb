{
 "cells": [
  {
   "cell_type": "code",
   "execution_count": 4,
   "id": "90de67c2",
   "metadata": {},
   "outputs": [],
   "source": [
    "import pandas as pd\n",
    "import numpy as np\n",
    "import matplotlib.pyplot as plt\n",
    "import seaborn as sns\n",
    "import os\n",
    "from scipy.stats import pearsonr\n",
    "\n",
    "\n",
    "\n",
    "%run DataCleaningFunction.ipynb"
   ]
  },
  {
   "cell_type": "code",
   "execution_count": 5,
   "id": "ca1e3a62",
   "metadata": {},
   "outputs": [],
   "source": [
    "MLdata_path = r\"/Users/bashirulazambiswas/Documents/Sadia/SUNY courses/2022_Fall/ICSI 518 Software Engineering/Project/Git/Learning-Machine-Learning/ML data/Station data\"\n",
    "result_path = r\"/Users/bashirulazambiswas/Documents/Sadia/SUNY courses/2022_Fall/ICSI 518 Software Engineering/Project/Results\"\n",
    "\n",
    "\n"
   ]
  },
  {
   "cell_type": "code",
   "execution_count": 6,
   "id": "5c2180f1",
   "metadata": {},
   "outputs": [],
   "source": [
    "data = import_station_data(MLdata_path,\"ADDI\")\n",
    "data.time = time_coversion(data.time)"
   ]
  },
  {
   "cell_type": "code",
   "execution_count": 12,
   "id": "ed11417a",
   "metadata": {},
   "outputs": [],
   "source": [
    "features = data.columns.drop(['station','time'])"
   ]
  },
  {
   "cell_type": "code",
   "execution_count": 26,
   "id": "239b2370",
   "metadata": {},
   "outputs": [],
   "source": [
    "# Standardization\n",
    "\n",
    "from sklearn.preprocessing import StandardScaler\n",
    "x = data[features].dropna().values\n",
    "x = StandardScaler().fit_transform(x)\n"
   ]
  },
  {
   "cell_type": "code",
   "execution_count": 40,
   "id": "ef451eaf",
   "metadata": {},
   "outputs": [],
   "source": [
    "from sklearn.decomposition import PCA\n",
    "pca = PCA(n_components='mle')\n",
    "principalComponents = pca.fit_transform(x)\n"
   ]
  },
  {
   "cell_type": "code",
   "execution_count": 46,
   "id": "79d0d1fb",
   "metadata": {},
   "outputs": [
    {
     "data": {
      "text/plain": [
       "array([[ 2.06801740e-01,  2.01618255e-01,  2.08379944e-01, ...,\n",
       "        -1.62023197e-01, -1.60166297e-01,  1.31603879e-01],\n",
       "       [-1.11097073e-01, -1.57056012e-01, -1.32539217e-01, ...,\n",
       "        -2.70338711e-01, -2.72016817e-01,  1.79398825e-02],\n",
       "       [ 3.72194331e-03,  6.39402354e-02,  3.15197604e-02, ...,\n",
       "        -9.57349786e-02, -9.65029240e-02, -1.59630417e-01],\n",
       "       ...,\n",
       "       [ 7.87247312e-02,  4.74241022e-02, -2.18272756e-01, ...,\n",
       "        -5.97562180e-03,  7.22360556e-03,  1.17471853e-05],\n",
       "       [-2.35927318e-03, -1.00543987e-02,  2.93768614e-02, ...,\n",
       "        -8.99007384e-04,  5.88208024e-04,  1.81606170e-03],\n",
       "       [ 4.16463941e-03,  4.49567512e-03, -9.88379186e-03, ...,\n",
       "        -1.46285118e-04,  1.59469909e-03, -7.88685654e-04]])"
      ]
     },
     "execution_count": 46,
     "metadata": {},
     "output_type": "execute_result"
    }
   ],
   "source": [
    "pca.components_"
   ]
  },
  {
   "cell_type": "code",
   "execution_count": 48,
   "id": "e06f3477",
   "metadata": {},
   "outputs": [
    {
     "data": {
      "text/plain": [
       "1.0"
      ]
     },
     "execution_count": 48,
     "metadata": {},
     "output_type": "execute_result"
    }
   ],
   "source": [
    "pca.explained_variance_ratio_"
   ]
  },
  {
   "cell_type": "code",
   "execution_count": null,
   "id": "7f43ae97",
   "metadata": {},
   "outputs": [],
   "source": []
  }
 ],
 "metadata": {
  "kernelspec": {
   "display_name": "Python 3",
   "language": "python",
   "name": "python3"
  },
  "language_info": {
   "codemirror_mode": {
    "name": "ipython",
    "version": 3
   },
   "file_extension": ".py",
   "mimetype": "text/x-python",
   "name": "python",
   "nbconvert_exporter": "python",
   "pygments_lexer": "ipython3",
   "version": "3.8.8"
  }
 },
 "nbformat": 4,
 "nbformat_minor": 5
}
